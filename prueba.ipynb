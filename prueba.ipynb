{
 "cells": [
  {
   "cell_type": "code",
   "execution_count": 17,
   "metadata": {},
   "outputs": [
    {
     "name": "stdout",
     "output_type": "stream",
     "text": [
      "Rentabilidad de btc del 2022-11-08 al 2023-11-08: 42.76%\n"
     ]
    }
   ],
   "source": [
    "import pandas as pd\n",
    "import datetime\n",
    "\n",
    "# Lee el archivo CSV \n",
    "df = pd.read_pickle('coins.pkl')\n",
    "\n",
    "# Selecciona la criptomoneda y el período de tiempo de interés\n",
    "coin = 'btc'\n",
    "start_date = '2022-11-08'\n",
    "end_date = '2023-11-08'\n",
    "\n",
    "# Convierte las cadenas de texto en objetos datetime.date\n",
    "start_date = datetime.datetime.strptime(start_date, '%Y-%m-%d').date()\n",
    "end_date = datetime.datetime.strptime(end_date, '%Y-%m-%d').date()\n",
    "\n",
    "# Filtra el dataframe para obtener los datos de la criptomoneda y el período de tiempo seleccionados\n",
    "df_coin = df.loc[coin][(df.loc[coin]['timestamp'] >= start_date) & (df.loc[coin]['timestamp'] <= end_date)]\n",
    "\n",
    "# Verifica si el dataframe resultante está vacío\n",
    "if df_coin.empty:\n",
    "    print(f'No se encontraron datos para la criptomoneda {coin} en el período de tiempo seleccionado.')\n",
    "else:\n",
    "    # Calcula el cambio porcentual en el precio de la criptomoneda durante el período de tiempo seleccionado\n",
    "    price_start = df_coin.iloc[0]['price']\n",
    "    price_end = df_coin.iloc[-1]['price']\n",
    "    rentabilidad = (price_end - price_start) / price_start * 100\n",
    "\n",
    "    # Muestra el resultado\n",
    "    print(f'Rentabilidad de {coin} del {start_date} al {end_date}: {rentabilidad:.2f}%')\n",
    "\n",
    "\n",
    "\n",
    "\n"
   ]
  }
 ],
 "metadata": {
  "kernelspec": {
   "display_name": "Python 3",
   "language": "python",
   "name": "python3"
  },
  "language_info": {
   "codemirror_mode": {
    "name": "ipython",
    "version": 3
   },
   "file_extension": ".py",
   "mimetype": "text/x-python",
   "name": "python",
   "nbconvert_exporter": "python",
   "pygments_lexer": "ipython3",
   "version": "3.11.4"
  },
  "orig_nbformat": 4
 },
 "nbformat": 4,
 "nbformat_minor": 2
}
